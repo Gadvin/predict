{
  "nbformat": 4,
  "nbformat_minor": 0,
  "metadata": {
    "colab": {
      "name": "sklearn_comet_starter_notebook.ipynb",
      "provenance": [],
      "collapsed_sections": [],
      "include_colab_link": true
    },
    "kernelspec": {
      "name": "python3",
      "display_name": "Python 3"
    }
  },
  "cells": [
    {
      "cell_type": "markdown",
      "metadata": {
        "id": "view-in-github",
        "colab_type": "text"
      },
      "source": [
        "<a href=\"https://colab.research.google.com/github/Gadvin/predict/blob/main/sklearn_comet_starter_notebook.ipynb\" target=\"_parent\"><img src=\"https://colab.research.google.com/assets/colab-badge.svg\" alt=\"Open In Colab\"/></a>"
      ]
    },
    {
      "cell_type": "markdown",
      "metadata": {
        "id": "-XweBu-_x9Vj"
      },
      "source": [
        "## Introduction to Comet ML  \n",
        "\n",
        "Comet is a great tool for model versioning and experimentation as it records the parameters and conditions from each of your experiements- allowing you to reproduce your results, or go back to a previous version of your experiment.  \n",
        "\n",
        "To create an account, visit https://www.comet.ml/  \n",
        "Follow the instructions for a single user account. Once that is created, you will see a project folder. That is where the records of your experiments can be viewed. \n",
        "\n",
        "Comet has an abundance of tutorials and scripts, we're just going to run through this notebook to get you started on the right track. For this illustration, we will be using one of the examples found on the Comet ML GitHub repo.\n",
        "\n",
        "To begin with, you should install as illustrated below if you don't already have it. *Always import Experiment at the top of your notebook/script.*\n"
      ]
    },
    {
      "cell_type": "code",
      "metadata": {
        "id": "3Wd_iEgx6j2w",
        "colab": {
          "base_uri": "https://localhost:8080/"
        },
        "outputId": "cb9d4285-6f63-4754-8adb-ecc14965c3ba"
      },
      "source": [
        "!pip install comet_ml"
      ],
      "execution_count": 1,
      "outputs": [
        {
          "output_type": "stream",
          "name": "stdout",
          "text": [
            "Collecting comet_ml\n",
            "  Downloading comet_ml-3.28.2-py2.py3-none-any.whl (342 kB)\n",
            "\u001b[?25l\r\u001b[K     |█                               | 10 kB 29.7 MB/s eta 0:00:01\r\u001b[K     |██                              | 20 kB 34.1 MB/s eta 0:00:01\r\u001b[K     |██▉                             | 30 kB 37.3 MB/s eta 0:00:01\r\u001b[K     |███▉                            | 40 kB 21.6 MB/s eta 0:00:01\r\u001b[K     |████▉                           | 51 kB 16.4 MB/s eta 0:00:01\r\u001b[K     |█████▊                          | 61 kB 18.8 MB/s eta 0:00:01\r\u001b[K     |██████▊                         | 71 kB 19.0 MB/s eta 0:00:01\r\u001b[K     |███████▋                        | 81 kB 20.5 MB/s eta 0:00:01\r\u001b[K     |████████▋                       | 92 kB 22.3 MB/s eta 0:00:01\r\u001b[K     |█████████▋                      | 102 kB 23.4 MB/s eta 0:00:01\r\u001b[K     |██████████▌                     | 112 kB 23.4 MB/s eta 0:00:01\r\u001b[K     |███████████▌                    | 122 kB 23.4 MB/s eta 0:00:01\r\u001b[K     |████████████▍                   | 133 kB 23.4 MB/s eta 0:00:01\r\u001b[K     |█████████████▍                  | 143 kB 23.4 MB/s eta 0:00:01\r\u001b[K     |██████████████▍                 | 153 kB 23.4 MB/s eta 0:00:01\r\u001b[K     |███████████████▎                | 163 kB 23.4 MB/s eta 0:00:01\r\u001b[K     |████████████████▎               | 174 kB 23.4 MB/s eta 0:00:01\r\u001b[K     |█████████████████▏              | 184 kB 23.4 MB/s eta 0:00:01\r\u001b[K     |██████████████████▏             | 194 kB 23.4 MB/s eta 0:00:01\r\u001b[K     |███████████████████▏            | 204 kB 23.4 MB/s eta 0:00:01\r\u001b[K     |████████████████████            | 215 kB 23.4 MB/s eta 0:00:01\r\u001b[K     |█████████████████████           | 225 kB 23.4 MB/s eta 0:00:01\r\u001b[K     |██████████████████████          | 235 kB 23.4 MB/s eta 0:00:01\r\u001b[K     |███████████████████████         | 245 kB 23.4 MB/s eta 0:00:01\r\u001b[K     |████████████████████████        | 256 kB 23.4 MB/s eta 0:00:01\r\u001b[K     |████████████████████████▉       | 266 kB 23.4 MB/s eta 0:00:01\r\u001b[K     |█████████████████████████▉      | 276 kB 23.4 MB/s eta 0:00:01\r\u001b[K     |██████████████████████████▊     | 286 kB 23.4 MB/s eta 0:00:01\r\u001b[K     |███████████████████████████▊    | 296 kB 23.4 MB/s eta 0:00:01\r\u001b[K     |████████████████████████████▊   | 307 kB 23.4 MB/s eta 0:00:01\r\u001b[K     |█████████████████████████████▋  | 317 kB 23.4 MB/s eta 0:00:01\r\u001b[K     |██████████████████████████████▋ | 327 kB 23.4 MB/s eta 0:00:01\r\u001b[K     |███████████████████████████████▋| 337 kB 23.4 MB/s eta 0:00:01\r\u001b[K     |████████████████████████████████| 342 kB 23.4 MB/s \n",
            "\u001b[?25hCollecting requests-toolbelt>=0.8.0\n",
            "  Downloading requests_toolbelt-0.9.1-py2.py3-none-any.whl (54 kB)\n",
            "\u001b[?25l\r\u001b[K     |██████                          | 10 kB 36.1 MB/s eta 0:00:01\r\u001b[K     |████████████                    | 20 kB 41.0 MB/s eta 0:00:01\r\u001b[K     |██████████████████              | 30 kB 47.5 MB/s eta 0:00:01\r\u001b[K     |████████████████████████▏       | 40 kB 51.9 MB/s eta 0:00:01\r\u001b[K     |██████████████████████████████▏ | 51 kB 54.0 MB/s eta 0:00:01\r\u001b[K     |████████████████████████████████| 54 kB 3.5 MB/s \n",
            "\u001b[?25hRequirement already satisfied: nvidia-ml-py3>=7.352.0 in /usr/local/lib/python3.7/dist-packages (from comet_ml) (7.352.0)\n",
            "Requirement already satisfied: requests>=2.18.4 in /usr/local/lib/python3.7/dist-packages (from comet_ml) (2.23.0)\n",
            "Requirement already satisfied: jsonschema!=3.1.0,>=2.6.0 in /usr/local/lib/python3.7/dist-packages (from comet_ml) (4.3.3)\n",
            "Collecting semantic-version>=2.8.0\n",
            "  Downloading semantic_version-2.9.0-py2.py3-none-any.whl (15 kB)\n",
            "Requirement already satisfied: wrapt>=1.11.2 in /usr/local/lib/python3.7/dist-packages (from comet_ml) (1.13.3)\n",
            "Collecting websocket-client>=0.55.0\n",
            "  Downloading websocket_client-1.3.1-py3-none-any.whl (54 kB)\n",
            "\u001b[K     |████████████████████████████████| 54 kB 3.4 MB/s \n",
            "\u001b[?25hRequirement already satisfied: six in /usr/local/lib/python3.7/dist-packages (from comet_ml) (1.15.0)\n",
            "Collecting everett[ini]>=1.0.1\n",
            "  Downloading everett-3.0.0-py2.py3-none-any.whl (35 kB)\n",
            "Collecting dulwich!=0.20.33,>=0.20.6\n",
            "  Downloading dulwich-0.20.34-cp37-cp37m-manylinux_2_5_x86_64.manylinux1_x86_64.manylinux_2_12_x86_64.manylinux2010_x86_64.whl (550 kB)\n",
            "\u001b[K     |████████████████████████████████| 550 kB 49.6 MB/s \n",
            "\u001b[?25hCollecting wurlitzer>=1.0.2\n",
            "  Downloading wurlitzer-3.0.2-py3-none-any.whl (7.3 kB)\n",
            "Requirement already satisfied: urllib3>=1.24.1 in /usr/local/lib/python3.7/dist-packages (from dulwich!=0.20.33,>=0.20.6->comet_ml) (1.24.3)\n",
            "Requirement already satisfied: certifi in /usr/local/lib/python3.7/dist-packages (from dulwich!=0.20.33,>=0.20.6->comet_ml) (2021.10.8)\n",
            "Collecting configobj\n",
            "  Downloading configobj-5.0.6.tar.gz (33 kB)\n",
            "Requirement already satisfied: typing-extensions in /usr/local/lib/python3.7/dist-packages (from jsonschema!=3.1.0,>=2.6.0->comet_ml) (3.10.0.2)\n",
            "Requirement already satisfied: importlib-resources>=1.4.0 in /usr/local/lib/python3.7/dist-packages (from jsonschema!=3.1.0,>=2.6.0->comet_ml) (5.4.0)\n",
            "Requirement already satisfied: importlib-metadata in /usr/local/lib/python3.7/dist-packages (from jsonschema!=3.1.0,>=2.6.0->comet_ml) (4.11.2)\n",
            "Requirement already satisfied: pyrsistent!=0.17.0,!=0.17.1,!=0.17.2,>=0.14.0 in /usr/local/lib/python3.7/dist-packages (from jsonschema!=3.1.0,>=2.6.0->comet_ml) (0.18.1)\n",
            "Requirement already satisfied: attrs>=17.4.0 in /usr/local/lib/python3.7/dist-packages (from jsonschema!=3.1.0,>=2.6.0->comet_ml) (21.4.0)\n",
            "Requirement already satisfied: zipp>=3.1.0 in /usr/local/lib/python3.7/dist-packages (from importlib-resources>=1.4.0->jsonschema!=3.1.0,>=2.6.0->comet_ml) (3.7.0)\n",
            "Requirement already satisfied: idna<3,>=2.5 in /usr/local/lib/python3.7/dist-packages (from requests>=2.18.4->comet_ml) (2.10)\n",
            "Requirement already satisfied: chardet<4,>=3.0.2 in /usr/local/lib/python3.7/dist-packages (from requests>=2.18.4->comet_ml) (3.0.4)\n",
            "Building wheels for collected packages: configobj\n",
            "  Building wheel for configobj (setup.py) ... \u001b[?25l\u001b[?25hdone\n",
            "  Created wheel for configobj: filename=configobj-5.0.6-py3-none-any.whl size=34547 sha256=9da65bcf21bc49a550e6d601c7e6d339629b87417032187f5a2544a506279fde\n",
            "  Stored in directory: /root/.cache/pip/wheels/0d/c4/19/13d74440f2a571841db6b6e0a273694327498884dafb9cf978\n",
            "Successfully built configobj\n",
            "Installing collected packages: everett, configobj, wurlitzer, websocket-client, semantic-version, requests-toolbelt, dulwich, comet-ml\n",
            "Successfully installed comet-ml-3.28.2 configobj-5.0.6 dulwich-0.20.34 everett-3.0.0 requests-toolbelt-0.9.1 semantic-version-2.9.0 websocket-client-1.3.1 wurlitzer-3.0.2\n"
          ]
        }
      ]
    },
    {
      "cell_type": "code",
      "metadata": {
        "id": "3jhxZfPg6qxH"
      },
      "source": [
        "from comet_ml import Experiment"
      ],
      "execution_count": 4,
      "outputs": []
    },
    {
      "cell_type": "markdown",
      "metadata": {
        "id": "cObkea-S7Y85"
      },
      "source": [
        "You will see an API key button at the top of the page when you click on an experiment- use this key as illustrated below to link your current workspace to comet. (If a project is empty, the code below will autogenerate for you on the project page, just copy and paste it in here)"
      ]
    },
    {
      "cell_type": "code",
      "metadata": {
        "id": "S5cRjXOH7aTX",
        "colab": {
          "base_uri": "https://localhost:8080/"
        },
        "outputId": "ec85f0d7-bbae-46fd-8387-709f86025f61"
      },
      "source": [
        "# Setting the API key (saved as environment variable)\n",
        "experiment = Experiment(api_key=\"dpmU5075WP5HhhxbV5165Tg0W\",\n",
        "                        project_name=\"general\",\n",
        "                        workspace=\"gadvin\",) "
      ],
      "execution_count": 5,
      "outputs": [
        {
          "output_type": "stream",
          "name": "stderr",
          "text": [
            "COMET WARNING: As you are running in a Jupyter environment, you will need to call `experiment.end()` when finished to ensure all metrics and code are logged before exiting.\n",
            "COMET ERROR: Failed to calculate active processors count. Fall back to default CPU count 1\n",
            "COMET INFO: Couldn't find a Git repository in '/content' nor in any parent directory. You can override where Comet is looking for a Git Patch by setting the configuration `COMET_GIT_DIRECTORY`\n",
            "COMET INFO: Experiment is live on comet.ml https://www.comet.ml/gadvin/general/26f5ed552f174ac095cbfe3192c76100\n",
            "\n"
          ]
        }
      ]
    },
    {
      "cell_type": "markdown",
      "metadata": {
        "id": "2dN3PMg07s0Q"
      },
      "source": [
        "Import the rest of your necessary libraries as you usually would. For this demonstration we will be using the breast cancer dataset for classification so we will also import that from sklearn."
      ]
    },
    {
      "cell_type": "code",
      "metadata": {
        "id": "Q53Mocnc79cF"
      },
      "source": [
        "import numpy as np\n",
        "from sklearn.datasets import load_breast_cancer\n",
        "from sklearn.model_selection import train_test_split, GridSearchCV\n",
        "from sklearn.linear_model import LogisticRegression\n",
        "from sklearn.tree import DecisionTreeClassifier\n",
        "from sklearn.preprocessing import StandardScaler\n",
        "from sklearn.metrics import f1_score, precision_score, recall_score, confusion_matrix"
      ],
      "execution_count": 6,
      "outputs": []
    },
    {
      "cell_type": "code",
      "metadata": {
        "id": "olkD6zuo_VI9",
        "colab": {
          "base_uri": "https://localhost:8080/"
        },
        "outputId": "f95602df-75ee-48ef-c162-a800907ba0bb"
      },
      "source": [
        "# Have a look at your dataset\n",
        "cancer = load_breast_cancer()\n",
        "print(\"cancer.keys(): {}\".format(cancer.keys()))\n",
        "print(\"Shape of cancer data: {}\\n\".format(cancer.data.shape))\n",
        "print(\"Sample counts per class:\\n{}\".format(\n",
        "      {n: v for n, v in zip(cancer.target_names, np.bincount(cancer.target))}))\n",
        "print(\"\\nFeature names:\\n{}\".format(cancer.feature_names))"
      ],
      "execution_count": 7,
      "outputs": [
        {
          "output_type": "stream",
          "name": "stdout",
          "text": [
            "cancer.keys(): dict_keys(['data', 'target', 'frame', 'target_names', 'DESCR', 'feature_names', 'filename', 'data_module'])\n",
            "Shape of cancer data: (569, 30)\n",
            "\n",
            "Sample counts per class:\n",
            "{'malignant': 212, 'benign': 357}\n",
            "\n",
            "Feature names:\n",
            "['mean radius' 'mean texture' 'mean perimeter' 'mean area'\n",
            " 'mean smoothness' 'mean compactness' 'mean concavity'\n",
            " 'mean concave points' 'mean symmetry' 'mean fractal dimension'\n",
            " 'radius error' 'texture error' 'perimeter error' 'area error'\n",
            " 'smoothness error' 'compactness error' 'concavity error'\n",
            " 'concave points error' 'symmetry error' 'fractal dimension error'\n",
            " 'worst radius' 'worst texture' 'worst perimeter' 'worst area'\n",
            " 'worst smoothness' 'worst compactness' 'worst concavity'\n",
            " 'worst concave points' 'worst symmetry' 'worst fractal dimension']\n"
          ]
        }
      ]
    },
    {
      "cell_type": "markdown",
      "metadata": {
        "id": "H_KDcC6O_uon"
      },
      "source": [
        "Split your data into train and test sets, keep in mind that you need to set a random state for your results to be reproduced!"
      ]
    },
    {
      "cell_type": "code",
      "metadata": {
        "id": "yHBLubxt_b2t"
      },
      "source": [
        "X_train, X_test, y_train, y_test = train_test_split(\n",
        "    cancer.data,\n",
        "    cancer.target,\n",
        "    stratify=cancer.target,\n",
        "    random_state=7)"
      ],
      "execution_count": 8,
      "outputs": []
    },
    {
      "cell_type": "code",
      "metadata": {
        "id": "vjsyVrHF_kHR"
      },
      "source": [
        "# Scale your data!\n",
        "\n",
        "scaler = StandardScaler()\n",
        "X_train_scaled = scaler.fit_transform(X_train)\n",
        "X_test_scaled = scaler.transform(X_test)"
      ],
      "execution_count": 9,
      "outputs": []
    },
    {
      "cell_type": "markdown",
      "metadata": {
        "id": "93jtvJoIGxbK"
      },
      "source": [
        "## GridSearch \n",
        "\n",
        "For this example we've used a gridsearch but you may use a model with default parameters or your own parameters too- Just remember to add/remove the neccesary data when you are logging your parameters at the end of the experiment.\n",
        "\n",
        "The `param_grid` variable contains the 'C' values we want our gridsearch to iterate through.\n",
        "\n"
      ]
    },
    {
      "cell_type": "code",
      "metadata": {
        "id": "B0yjyIgS_pde"
      },
      "source": [
        "logreg = LogisticRegression()\n",
        "param_grid = {'C': [0.001, 0.01, 0.1, 1, 5, 10, 20, 50, 100]}"
      ],
      "execution_count": 10,
      "outputs": []
    },
    {
      "cell_type": "code",
      "metadata": {
        "id": "PjWzBbbqF_S1"
      },
      "source": [
        "# Training and testing using GridSearch\n",
        "clf = GridSearchCV(logreg,\n",
        "                   param_grid=param_grid,\n",
        "                   cv=10,\n",
        "                   n_jobs=-1)\n",
        "\n",
        "clf.fit(X_train_scaled, y_train)\n",
        "y_pred = clf.predict(X_test_scaled)"
      ],
      "execution_count": 11,
      "outputs": []
    },
    {
      "cell_type": "markdown",
      "metadata": {
        "id": "Qn57DHbLQSyF"
      },
      "source": [
        "## Results\n",
        "\n",
        "Now that our model has trained, we can have a look at the results- Below is a confusion matrix indicating that at first glance, we have a fairly good model going. We then save the F1 score, Precision, and Recall as individual variables to go into our metric dictionary for logging.\n",
        "\n",
        "P.S. have a look at the Comet tutorial page for interesting confusion matrix plots."
      ]
    },
    {
      "cell_type": "code",
      "metadata": {
        "id": "wPerWtdRGFvx",
        "colab": {
          "base_uri": "https://localhost:8080/"
        },
        "outputId": "cfc81089-3176-4cd4-b2dc-280cb8c7be1a"
      },
      "source": [
        "print(\"\\nResults\\nConfusion matrix \\n {}\".format(\n",
        "    confusion_matrix(y_test, y_pred)))"
      ],
      "execution_count": 12,
      "outputs": [
        {
          "output_type": "stream",
          "name": "stdout",
          "text": [
            "\n",
            "Results\n",
            "Confusion matrix \n",
            " [[52  1]\n",
            " [ 2 88]]\n"
          ]
        }
      ]
    },
    {
      "cell_type": "code",
      "metadata": {
        "id": "arEXfiZPGLOd"
      },
      "source": [
        "# Saving each metric to add to a dictionary for logging\n",
        "\n",
        "f1 = f1_score(y_test, y_pred)\n",
        "precision = precision_score(y_test, y_pred)\n",
        "recall = recall_score(y_test, y_pred)"
      ],
      "execution_count": 13,
      "outputs": []
    },
    {
      "cell_type": "code",
      "metadata": {
        "id": "-1kDE76cGRSd"
      },
      "source": [
        "# Create dictionaries for the data we want to log\n",
        "\n",
        "params = {\"random_state\": 7,\n",
        "          \"model_type\": \"logreg\",\n",
        "          \"scaler\": \"standard scaler\",\n",
        "          \"param_grid\": str(param_grid),\n",
        "          \"stratify\": True\n",
        "          }\n",
        "metrics = {\"f1\": f1,\n",
        "           \"recall\": recall,\n",
        "           \"precision\": precision\n",
        "           }"
      ],
      "execution_count": 14,
      "outputs": []
    },
    {
      "cell_type": "code",
      "metadata": {
        "id": "oun_B6m5GXEz"
      },
      "source": [
        "# Log our parameters and results\n",
        "experiment.log_parameters(params)\n",
        "experiment.log_metrics(metrics)"
      ],
      "execution_count": 16,
      "outputs": []
    },
    {
      "cell_type": "markdown",
      "metadata": {
        "id": "wuUPB_amTU-0"
      },
      "source": [
        "If you're using comet within a jupyter notebook, it's important to end your experiment when you've finished as illustrated below."
      ]
    },
    {
      "cell_type": "code",
      "metadata": {
        "id": "CbQ3tKA-G6rW",
        "colab": {
          "base_uri": "https://localhost:8080/"
        },
        "outputId": "1ebe64dc-a4cb-4208-cfed-c752af418ea3"
      },
      "source": [
        "experiment.end()"
      ],
      "execution_count": 17,
      "outputs": [
        {
          "output_type": "stream",
          "name": "stderr",
          "text": [
            "COMET INFO: ---------------------------\n",
            "COMET INFO: Comet.ml Experiment Summary\n",
            "COMET INFO: ---------------------------\n",
            "COMET INFO:   Data:\n",
            "COMET INFO:     display_summary_level : 1\n",
            "COMET INFO:     url                   : https://www.comet.ml/gadvin/general/26f5ed552f174ac095cbfe3192c76100\n",
            "COMET INFO:   Metrics:\n",
            "COMET INFO:     f1        : 0.9832402234636872\n",
            "COMET INFO:     precision : 0.9887640449438202\n",
            "COMET INFO:     recall    : 0.9777777777777777\n",
            "COMET INFO:   Others:\n",
            "COMET INFO:     notebook_url : https://colab.research.google.com/notebook#fileId=1bxpfLyGkjZf6yJx_WRVdnwwQkY1thRG5\n",
            "COMET INFO:   Parameters:\n",
            "COMET INFO:     C                            : 1\n",
            "COMET INFO:     class_weight                 : 1\n",
            "COMET INFO:     copy                         : True\n",
            "COMET INFO:     cv                           : 10\n",
            "COMET INFO:     dual                         : False\n",
            "COMET INFO:     error_score                  : nan\n",
            "COMET INFO:     estimator                    : LogisticRegression()\n",
            "COMET INFO:     estimator__C                 : 1.0\n",
            "COMET INFO:     estimator__class_weight      : 1\n",
            "COMET INFO:     estimator__dual              : False\n",
            "COMET INFO:     estimator__fit_intercept     : True\n",
            "COMET INFO:     estimator__intercept_scaling : 1\n",
            "COMET INFO:     estimator__l1_ratio          : 1\n",
            "COMET INFO:     estimator__max_iter          : 100\n",
            "COMET INFO:     estimator__multi_class       : auto\n",
            "COMET INFO:     estimator__n_jobs            : 1\n",
            "COMET INFO:     estimator__penalty           : l2\n",
            "COMET INFO:     estimator__random_state      : 1\n",
            "COMET INFO:     estimator__solver            : lbfgs\n",
            "COMET INFO:     estimator__tol               : 0.0001\n",
            "COMET INFO:     estimator__verbose           : 0\n",
            "COMET INFO:     estimator__warm_start        : False\n",
            "COMET INFO:     fit_intercept                : True\n",
            "COMET INFO:     intercept_scaling            : 1\n",
            "COMET INFO:     l1_ratio                     : 1\n",
            "COMET INFO:     max_iter                     : 100\n",
            "COMET INFO:     model_type                   : logreg\n",
            "COMET INFO:     multi_class                  : auto\n",
            "COMET INFO:     n_jobs                       : -1\n",
            "COMET INFO:     param_grid                   : {'C': [0.001, 0.01, 0.1, 1, 5, 10, 20, 50, 100]}\n",
            "COMET INFO:     penalty                      : l2\n",
            "COMET INFO:     pre_dispatch                 : 2*n_jobs\n",
            "COMET INFO:     random_state                 : 7\n",
            "COMET INFO:     refit                        : True\n",
            "COMET INFO:     return_train_score           : False\n",
            "COMET INFO:     scaler                       : standard scaler\n",
            "COMET INFO:     scoring                      : 1\n",
            "COMET INFO:     solver                       : lbfgs\n",
            "COMET INFO:     stratify                     : True\n",
            "COMET INFO:     tol                          : 0.0001\n",
            "COMET INFO:     verbose                      : 0\n",
            "COMET INFO:     warm_start                   : False\n",
            "COMET INFO:     with_mean                    : True\n",
            "COMET INFO:     with_std                     : True\n",
            "COMET INFO:   Uploads:\n",
            "COMET INFO:     environment details : 1\n",
            "COMET INFO:     filename            : 1\n",
            "COMET INFO:     installed packages  : 1\n",
            "COMET INFO:     notebook            : 2\n",
            "COMET INFO:     os packages         : 1\n",
            "COMET INFO:     source_code         : 1\n",
            "COMET INFO: ---------------------------\n",
            "COMET ERROR: Error sending a notification, make sure you have opted-in for notifications\n",
            "COMET INFO: Uploading metrics, params, and assets to Comet before program termination (may take several seconds)\n",
            "COMET INFO: The Python SDK has 3600 seconds to finish before aborting...\n"
          ]
        }
      ]
    },
    {
      "cell_type": "markdown",
      "metadata": {
        "id": "BXuUORTEooIX"
      },
      "source": [
        "## Display  \n",
        "\n",
        "Running `experiment.display()` will show you your experiments comet.ml page inside your notebook as illustrated below. You can do this immediately after an experiment is run, and logged. "
      ]
    },
    {
      "cell_type": "code",
      "metadata": {
        "id": "B-5ZmY-ZHFRf",
        "colab": {
          "base_uri": "https://localhost:8080/",
          "height": 822
        },
        "outputId": "c60fc683-5e85-4402-9c58-5cb013a1c9b6"
      },
      "source": [
        "experiment.display()"
      ],
      "execution_count": 18,
      "outputs": [
        {
          "output_type": "display_data",
          "data": {
            "text/plain": [
              "<IPython.lib.display.IFrame at 0x7f69d7d54050>"
            ],
            "text/html": [
              "\n",
              "        <iframe\n",
              "            width=\"100%\"\n",
              "            height=\"800px\"\n",
              "            src=\"https://www.comet.ml/gadvin/general/26f5ed552f174ac095cbfe3192c76100\"\n",
              "            frameborder=\"0\"\n",
              "            allowfullscreen\n",
              "        ></iframe>\n",
              "        "
            ]
          },
          "metadata": {}
        }
      ]
    },
    {
      "cell_type": "code",
      "metadata": {
        "id": "fupy3YeZolRA"
      },
      "source": [
        ""
      ],
      "execution_count": null,
      "outputs": []
    }
  ]
}